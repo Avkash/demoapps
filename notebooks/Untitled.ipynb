{
 "cells": [
  {
   "cell_type": "code",
   "execution_count": 1,
   "metadata": {},
   "outputs": [],
   "source": [
    "import base64\n",
    "from github import Github\n",
    "from pprint import pprint\n"
   ]
  },
  {
   "cell_type": "code",
   "execution_count": 5,
   "metadata": {},
   "outputs": [
    {
     "name": "stdout",
     "output_type": "stream",
     "text": [
      "Repository(full_name=\"Avkash/300seconds\")\n",
      "Repository(full_name=\"Avkash/3d-photo-inpainting\")\n",
      "Repository(full_name=\"Avkash/AirSim\")\n",
      "Repository(full_name=\"Avkash/albumentations\")\n",
      "Repository(full_name=\"Avkash/appliedml\")\n",
      "Repository(full_name=\"Avkash/artificio\")\n",
      "Repository(full_name=\"Avkash/AVData\")\n",
      "Repository(full_name=\"Avkash/AzureCmdApp-ConfigValues\")\n",
      "Repository(full_name=\"Avkash/BentoML\")\n",
      "Repository(full_name=\"Avkash/BMW-TensorFlow-Training-GUI\")\n",
      "Repository(full_name=\"Avkash/CarND-Project5-Vehicle_Detection_and_Tracking\")\n",
      "Repository(full_name=\"Avkash/cheatsheets-ai\")\n",
      "Repository(full_name=\"Avkash/coreui-react\")\n",
      "Repository(full_name=\"Avkash/covid19india-react\")\n",
      "Repository(full_name=\"Avkash/datatable\")\n",
      "Repository(full_name=\"Avkash/DataVisualizations\")\n",
      "Repository(full_name=\"Avkash/Deep-Learning\")\n",
      "Repository(full_name=\"Avkash/deeputil\")\n",
      "Repository(full_name=\"Avkash/DeepWeeds\")\n",
      "Repository(full_name=\"Avkash/demo-self-driving\")\n",
      "Repository(full_name=\"Avkash/demoapps\")\n",
      "Repository(full_name=\"Avkash/DeOldify\")\n",
      "Repository(full_name=\"Avkash/Detectron\")\n",
      "Repository(full_name=\"Avkash/didi-competition\")\n",
      "Repository(full_name=\"Avkash/fixed-data-table-2\")\n",
      "Repository(full_name=\"Avkash/flask-sessionstore\")\n",
      "Repository(full_name=\"Avkash/glow\")\n",
      "Repository(full_name=\"Avkash/growth-workshop\")\n",
      "Repository(full_name=\"Avkash/hands-on-transfer-learning-with-python\")\n",
      "Repository(full_name=\"Avkash/Jigsaw-Net\")\n",
      "Repository(full_name=\"Avkash/jigsaw-puzzle-solver\")\n",
      "Repository(full_name=\"Avkash/keras\")\n",
      "Repository(full_name=\"Avkash/kuwala\")\n",
      "Repository(full_name=\"Avkash/learn-data-science\")\n",
      "Repository(full_name=\"Avkash/ln2sql\")\n",
      "Repository(full_name=\"Avkash/luigi\")\n",
      "Repository(full_name=\"Avkash/machineintelligence.github.io\")\n",
      "Repository(full_name=\"Avkash/maha\")\n",
      "Repository(full_name=\"Avkash/mldl\")\n",
      "Repository(full_name=\"Avkash/mlflow\")\n",
      "Repository(full_name=\"Avkash/ModelMorphis\")\n",
      "Repository(full_name=\"Avkash/monk_v1\")\n",
      "Repository(full_name=\"Avkash/mysampleworld\")\n",
      "Repository(full_name=\"Avkash/neural_networks\")\n",
      "Repository(full_name=\"Avkash/NeuraScale\")\n",
      "Repository(full_name=\"Avkash/nodeblogwithazurestorage\")\n",
      "Repository(full_name=\"Avkash/nuscenes-devkit\")\n",
      "Repository(full_name=\"Avkash/nyc-taxi-data\")\n",
      "Repository(full_name=\"Avkash/Pedestrian-Detection\")\n",
      "Repository(full_name=\"Avkash/polynote\")\n",
      "Repository(full_name=\"Avkash/Portus\")\n",
      "Repository(full_name=\"Avkash/ppscore\")\n",
      "Repository(full_name=\"Avkash/PRNet\")\n",
      "Repository(full_name=\"Avkash/py-upset\")\n",
      "Repository(full_name=\"Avkash/pystacknet\")\n",
      "Repository(full_name=\"Avkash/PythonRobotics\")\n",
      "Repository(full_name=\"Avkash/react-boxplot\")\n",
      "Repository(full_name=\"Avkash/react-vis\")\n",
      "Repository(full_name=\"Avkash/SandDance\")\n",
      "Repository(full_name=\"Avkash/spektral\")\n",
      "Repository(full_name=\"Avkash/SplitThreader\")\n",
      "Repository(full_name=\"Avkash/sportyimages\")\n",
      "Repository(full_name=\"Avkash/streetscape.gl\")\n",
      "Repository(full_name=\"Avkash/tensorflow_object_counting_api\")\n",
      "Repository(full_name=\"Avkash/text-summarization\")\n",
      "Repository(full_name=\"Avkash/turicreate\")\n",
      "Repository(full_name=\"Avkash/turnilo\")\n",
      "Repository(full_name=\"Avkash/vis-academy\")\n",
      "Repository(full_name=\"Avkash/xviz\")\n"
     ]
    }
   ],
   "source": [
    "\n",
    "# Github username\n",
    "username = \"avkash\"\n",
    "# pygithub object\n",
    "g = Github()\n",
    "# get that user by username\n",
    "user = g.get_user(username)\n",
    "\n",
    "for repo in user.get_repos(\"Avkash\"):\n",
    "    print(repo)"
   ]
  },
  {
   "cell_type": "code",
   "execution_count": 7,
   "metadata": {},
   "outputs": [],
   "source": [
    "repo_mldl = user.get_repo('mldl')"
   ]
  },
  {
   "cell_type": "code",
   "execution_count": 20,
   "metadata": {},
   "outputs": [],
   "source": [
    "# repo_mldl.get_dir_contents('avkash/mldl/tree/master/notebook/keras')\n",
    "contents = repo_mldl.get_contents(\"notebook/keras\")"
   ]
  },
  {
   "cell_type": "code",
   "execution_count": 30,
   "metadata": {},
   "outputs": [
    {
     "data": {
      "text/plain": [
       "58250"
      ]
     },
     "execution_count": 30,
     "metadata": {},
     "output_type": "execute_result"
    }
   ],
   "source": [
    "contents[0].size"
   ]
  },
  {
   "cell_type": "code",
   "execution_count": 32,
   "metadata": {},
   "outputs": [
    {
     "data": {
      "text/plain": [
       "'https://raw.githubusercontent.com/Avkash/mldl/master/notebook/keras/Keras%20Tutorials%20.ipynb'"
      ]
     },
     "execution_count": 32,
     "metadata": {},
     "output_type": "execute_result"
    }
   ],
   "source": [
    "contents[0].download_url"
   ]
  },
  {
   "cell_type": "code",
   "execution_count": 23,
   "metadata": {},
   "outputs": [
    {
     "data": {
      "text/plain": [
       "'https://github.com/Avkash/mldl/blob/master/notebook/keras/Keras%20Tutorials%20.ipynb'"
      ]
     },
     "execution_count": 23,
     "metadata": {},
     "output_type": "execute_result"
    }
   ],
   "source": [
    "contents[0]."
   ]
  }
 ],
 "metadata": {
  "kernelspec": {
   "display_name": "Python 3",
   "language": "python",
   "name": "python3"
  },
  "language_info": {
   "codemirror_mode": {
    "name": "ipython",
    "version": 3
   },
   "file_extension": ".py",
   "mimetype": "text/x-python",
   "name": "python",
   "nbconvert_exporter": "python",
   "pygments_lexer": "ipython3",
   "version": "3.8.3"
  }
 },
 "nbformat": 4,
 "nbformat_minor": 4
}
