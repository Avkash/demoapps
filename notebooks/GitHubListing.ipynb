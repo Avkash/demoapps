{
 "cells": [
  {
   "cell_type": "code",
   "execution_count": 1,
   "metadata": {},
   "outputs": [],
   "source": [
    "# Import the required packages: \n",
    "from bs4 import BeautifulSoup\n",
    "import requests\n",
    "import pandas as pd\n",
    "import re \n"
   ]
  },
  {
   "cell_type": "code",
   "execution_count": null,
   "metadata": {},
   "outputs": [],
   "source": [
    "\n",
    "# Store the url as a string scalar: url => str\n",
    "url = \"https://github.com/CSSEGISandData/COVID-19/tree/master/csse_covid_19_data/csse_covid_19_daily_reports\"\n",
    "\n",
    "# Issue request: r => requests.models.Response\n",
    "r = requests.get(url)\n",
    "\n",
    "# Extract text: html_doc => str\n",
    "html_doc = r.text\n",
    "\n",
    "# Parse the HTML: soup => bs4.BeautifulSoup\n",
    "soup = BeautifulSoup(html_doc)\n",
    "\n",
    "# Find all 'a' tags (which define hyperlinks): a_tags => bs4.element.ResultSet\n",
    "a_tags = soup.find_all('a')\n",
    "\n",
    "# Store a list of urls ending in .csv: urls => list\n",
    "urls = ['https://raw.githubusercontent.com'+re.sub('/blob', '', link.get('href')) \n",
    "        for link in a_tags  if '.csv' in link.get('href')]\n",
    "\n",
    "# Store a list of Data Frame names to be assigned to the list: df_list_names => list\n",
    "df_list_names = [url.split('.csv')[0].split('/')[url.count('/')] for url in urls]\n",
    "\n",
    "# Initialise an empty list the same length as the urls list: df_list => list\n",
    "df_list = [pd.DataFrame([None]) for i in range(len(urls))]\n",
    "\n",
    "# Store an empty list of dataframes: df_list => list\n",
    "df_list = [pd.read_csv(url, sep = ',') for url in urls]"
   ]
  },
  {
   "cell_type": "code",
   "execution_count": null,
   "metadata": {},
   "outputs": [],
   "source": []
  }
 ],
 "metadata": {
  "kernelspec": {
   "display_name": "Python 3",
   "language": "python",
   "name": "python3"
  },
  "language_info": {
   "codemirror_mode": {
    "name": "ipython",
    "version": 3
   },
   "file_extension": ".py",
   "mimetype": "text/x-python",
   "name": "python",
   "nbconvert_exporter": "python",
   "pygments_lexer": "ipython3",
   "version": "3.8.3"
  }
 },
 "nbformat": 4,
 "nbformat_minor": 4
}
